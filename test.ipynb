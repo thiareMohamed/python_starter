{
 "cells": [
  {
   "cell_type": "code",
   "execution_count": 1,
   "metadata": {},
   "outputs": [
    {
     "name": "stdout",
     "output_type": "stream",
     "text": [
      "Before j  loop i is  1\n",
      "j is 50\n",
      "j is 100\n",
      "Before j  loop i is  2\n",
      "j is 50\n",
      "j is 100\n",
      "Before j  loop i is  3\n",
      "j is 50\n",
      "j is 100\n"
     ]
    }
   ],
   "source": [
    "for i in [1,2,3]:\n",
    "    print(\"Before j  loop i is \", i)\n",
    "    for j in [50, 100]:\n",
    "        print(\"j is\", j)"
   ]
  },
  {
   "cell_type": "code",
   "execution_count": 26,
   "metadata": {},
   "outputs": [
    {
     "name": "stdout",
     "output_type": "stream",
     "text": [
      "range(8, 13)\n",
      "24\n",
      "27\n",
      "30\n",
      "33\n",
      "36\n"
     ]
    }
   ],
   "source": [
    "data = range(8,13)\n",
    "for i in data:\n",
    "    print(i*3)"
   ]
  },
  {
   "cell_type": "code",
   "execution_count": 29,
   "metadata": {},
   "outputs": [
    {
     "name": "stdout",
     "output_type": "stream",
     "text": [
      "5\n"
     ]
    }
   ],
   "source": [
    "l_count = 0\n",
    "\n",
    "words = [\"hello\", \"world\", \"python\", \"yellow\"]\n",
    "\n",
    "for item in words:\n",
    "    for i in item:\n",
    "        if i == \"l\":\n",
    "            l_count+=1\n",
    "\n",
    "print(l_count)"
   ]
  },
  {
   "cell_type": "code",
   "execution_count": 36,
   "metadata": {},
   "outputs": [
    {
     "name": "stdout",
     "output_type": "stream",
     "text": [
      "Moins de 20:  3\n",
      "Plus de 30:  1\n",
      "Entre 20 et 29:  4\n"
     ]
    }
   ],
   "source": [
    "ages = [20, 21, 20, 22, 19, 18, 14, 35]\n",
    "\n",
    "moin20 = 0\n",
    "plus30 = 0\n",
    "entre20_29 = 0\n",
    "\n",
    "for age in ages:\n",
    "    if age > 30:\n",
    "        plus30 += 1\n",
    "    elif age < 20:\n",
    "        moin20 += 1\n",
    "    else:\n",
    "        entre20_29 += 1\n",
    "\n",
    "print(\"Moins de 20: \", moin20)\n",
    "print(\"Plus de 30: \", plus30)\n",
    "print(\"Entre 20 et 29: \", entre20_29)"
   ]
  },
  {
   "cell_type": "code",
   "execution_count": 98,
   "metadata": {},
   "outputs": [
    {
     "name": "stdout",
     "output_type": "stream",
     "text": [
      "[1, 2, 3, 4, 5, 6, 7, 8, 9, 10, 11, 12, 13, 14, 15, 16, 17, 18, 19, 20, 21, 22, 23, 24, 25, 26]\n"
     ]
    }
   ],
   "source": [
    "list_1 = [1,2,3,4]\n",
    "list_2 = [10,12]\n",
    "list_3= [21,22,23,24]\n",
    "list_4 = [13,14,15]\n",
    "list_5 = [16,17,18,19,20,25,26]\n",
    "list_6 = [9,8,7,6,5]\n",
    "list_7 = [11]\n",
    "\n",
    "list_all  = []\n",
    "\n",
    "list_6.reverse()\n",
    "\n",
    "list_all.extend(list_1)\n",
    "list_all.extend(list_6)\n",
    "list_2.insert(1,list_7[0])\n",
    "list_all.extend(list_2)\n",
    "list_all.extend(list_4)\n",
    "list_3.reverse()\n",
    "for i in list_3:\n",
    "    list_5.insert(5,i)\n",
    "\n",
    "list_all.extend(list_5)\n",
    "\n",
    "\n",
    "\n",
    "print(list_all)"
   ]
  },
  {
   "cell_type": "code",
   "execution_count": 100,
   "metadata": {},
   "outputs": [
    {
     "name": "stdout",
     "output_type": "stream",
     "text": [
      "[1, 2, 3, 4, 5, 6, 7, 8, 9, 10, 11, 12, 13, 14, 15, 16, 17, 18, 19, 20, 21, 22, 23, 24, 25, 26]\n"
     ]
    }
   ],
   "source": [
    "list_1 = [1,2,3,4]\n",
    "list_2 = [10,12]\n",
    "list_3= [21,22,23,24]\n",
    "list_4 = [13,14,15]\n",
    "list_5 = [16,17,18,19,20,25,26]\n",
    "list_6 = [9,8,7,6,5]\n",
    "list_7 = [11]\n",
    "\n",
    "list_6.reverse()\n",
    "list_1.extend(list_6)\n",
    "list_2.insert(1,list_7[0])\n",
    "list_1.extend(list_2)\n",
    "list_1.extend(list_4)\n",
    "list_3.reverse()\n",
    "for i in list_3:\n",
    "    list_5.insert(5,i)\n",
    "\n",
    "list_1.extend(list_5)\n",
    "\n",
    "\n",
    "\n",
    "print(list_1)"
   ]
  }
 ],
 "metadata": {
  "kernelspec": {
   "display_name": "Python 3",
   "language": "python",
   "name": "python3"
  },
  "language_info": {
   "codemirror_mode": {
    "name": "ipython",
    "version": 3
   },
   "file_extension": ".py",
   "mimetype": "text/x-python",
   "name": "python",
   "nbconvert_exporter": "python",
   "pygments_lexer": "ipython3",
   "version": "3.11.5"
  }
 },
 "nbformat": 4,
 "nbformat_minor": 2
}
